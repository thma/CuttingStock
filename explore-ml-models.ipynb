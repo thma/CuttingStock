{
 "cells": [
  {
   "cell_type": "code",
   "execution_count": 11,
   "metadata": {},
   "outputs": [
    {
     "data": {
      "text/html": [
       "<div>\n",
       "<style scoped>\n",
       "    .dataframe tbody tr th:only-of-type {\n",
       "        vertical-align: middle;\n",
       "    }\n",
       "\n",
       "    .dataframe tbody tr th {\n",
       "        vertical-align: top;\n",
       "    }\n",
       "\n",
       "    .dataframe thead th {\n",
       "        text-align: right;\n",
       "    }\n",
       "</style>\n",
       "<table border=\"1\" class=\"dataframe\">\n",
       "  <thead>\n",
       "    <tr style=\"text-align: right;\">\n",
       "      <th></th>\n",
       "      <th>R_1_len</th>\n",
       "      <th>R_1_wid</th>\n",
       "      <th>R_2_len</th>\n",
       "      <th>R_2_wid</th>\n",
       "      <th>R_3_len</th>\n",
       "      <th>R_3_wid</th>\n",
       "      <th>R_4_len</th>\n",
       "      <th>R_4_wid</th>\n",
       "      <th>R_5_len</th>\n",
       "      <th>R_5_wid</th>\n",
       "      <th>...</th>\n",
       "      <th>R_16_wid</th>\n",
       "      <th>R_17_len</th>\n",
       "      <th>R_17_wid</th>\n",
       "      <th>R_18_len</th>\n",
       "      <th>R_18_wid</th>\n",
       "      <th>R_19_len</th>\n",
       "      <th>R_19_wid</th>\n",
       "      <th>R_20_len</th>\n",
       "      <th>R_20_wid</th>\n",
       "      <th>Optimum</th>\n",
       "    </tr>\n",
       "  </thead>\n",
       "  <tbody>\n",
       "    <tr>\n",
       "      <th>0</th>\n",
       "      <td>0.966</td>\n",
       "      <td>0.7614</td>\n",
       "      <td>0.9072</td>\n",
       "      <td>0.5335</td>\n",
       "      <td>0.8823</td>\n",
       "      <td>0.5267</td>\n",
       "      <td>0.8428</td>\n",
       "      <td>0.7142</td>\n",
       "      <td>0.7981</td>\n",
       "      <td>0.6291</td>\n",
       "      <td>...</td>\n",
       "      <td>0.0649</td>\n",
       "      <td>0.2184</td>\n",
       "      <td>0.4249</td>\n",
       "      <td>0.1438</td>\n",
       "      <td>0.0435</td>\n",
       "      <td>0.1339</td>\n",
       "      <td>0.4128</td>\n",
       "      <td>0.133</td>\n",
       "      <td>0.1543</td>\n",
       "      <td>1</td>\n",
       "    </tr>\n",
       "  </tbody>\n",
       "</table>\n",
       "<p>1 rows × 41 columns</p>\n",
       "</div>"
      ],
      "text/plain": [
       "   R_1_len  R_1_wid  R_2_len  R_2_wid  R_3_len  R_3_wid  R_4_len  R_4_wid  \\\n",
       "0    0.966   0.7614   0.9072   0.5335   0.8823   0.5267   0.8428   0.7142   \n",
       "\n",
       "   R_5_len  R_5_wid  ...  R_16_wid  R_17_len  R_17_wid  R_18_len  R_18_wid  \\\n",
       "0   0.7981   0.6291  ...    0.0649    0.2184    0.4249    0.1438    0.0435   \n",
       "\n",
       "   R_19_len  R_19_wid  R_20_len  R_20_wid  Optimum  \n",
       "0    0.1339    0.4128     0.133    0.1543        1  \n",
       "\n",
       "[1 rows x 41 columns]"
      ]
     },
     "metadata": {},
     "output_type": "display_data"
    }
   ],
   "source": [
    "# Import libraries necessary for this project\n",
    "import numpy as np\n",
    "import pandas as pd\n",
    "from time import time\n",
    "from IPython.display import display # Allows the use of display() for DataFrames\n",
    "\n",
    "# Import supplementary visualization code visuals.py\n",
    "import visuals as vs\n",
    "\n",
    "# Pretty display for notebooks\n",
    "%matplotlib inline\n",
    "\n",
    "# Load the Census dataset\n",
    "data = pd.read_csv(\"data.csv\")\n",
    "\n",
    "# Success - Display the first record\n",
    "display(data.head(n=1))\n",
    "\n",
    "#data[(data.income == '<=50K')].shape[0] + data[(data.income == '>50K')].shape[0]\n",
    "# df[(df.points > 13) & (df.assists > 7)]\n",
    "\n",
    "#np.round(data[(data.income == '>50K')].shape[0] / data.shape[0] * 100, 2)"
   ]
  },
  {
   "cell_type": "code",
   "execution_count": 12,
   "metadata": {},
   "outputs": [
    {
     "name": "stdout",
     "output_type": "stream",
     "text": [
      "Total number of records: 70000\n",
      "Individuals making more than $50,000: 10000\n",
      "Individuals making at most $50,000: 60000\n",
      "Percentage of individuals making more than $50,000: 16.67%\n"
     ]
    }
   ],
   "source": [
    "# TODO: Total number of records\n",
    "n_records = data.shape[0]\n",
    "\n",
    "# TODO: Number of records where sort is optimum\n",
    "n_opt = data[(data.Optimum == 1)].shape[0]\n",
    "\n",
    "# TODO: Number of records where individual's income is at most $50,000\n",
    "n_not_opt = data[(data.Optimum == 0)].shape[0]\n",
    "\n",
    "# TODO: Percentage of individuals whose income is more than $50,000\n",
    "greater_percent = np.round(n_opt / n_not_opt * 100, 2)\n",
    "\n",
    "# Print the results\n",
    "print(\"Total number of records: {}\".format(n_records))\n",
    "print(\"Individuals making more than $50,000: {}\".format(n_opt))\n",
    "print(\"Individuals making at most $50,000: {}\".format(n_not_opt))\n",
    "print(\"Percentage of individuals making more than $50,000: {}%\".format(greater_percent))"
   ]
  },
  {
   "cell_type": "code",
   "execution_count": 13,
   "metadata": {},
   "outputs": [
    {
     "data": {
      "text/plain": [
       "(70000,)"
      ]
     },
     "execution_count": 13,
     "metadata": {},
     "output_type": "execute_result"
    }
   ],
   "source": [
    "# Split the data into features and target label\n",
    "optimum_raw = data['Optimum']\n",
    "features_raw = data.drop('Optimum', axis = 1)\n",
    "\n",
    "\n",
    "optimum_raw.shape"
   ]
  },
  {
   "cell_type": "code",
   "execution_count": 14,
   "metadata": {},
   "outputs": [
    {
     "data": {
      "text/html": [
       "<div>\n",
       "<style scoped>\n",
       "    .dataframe tbody tr th:only-of-type {\n",
       "        vertical-align: middle;\n",
       "    }\n",
       "\n",
       "    .dataframe tbody tr th {\n",
       "        vertical-align: top;\n",
       "    }\n",
       "\n",
       "    .dataframe thead th {\n",
       "        text-align: right;\n",
       "    }\n",
       "</style>\n",
       "<table border=\"1\" class=\"dataframe\">\n",
       "  <thead>\n",
       "    <tr style=\"text-align: right;\">\n",
       "      <th></th>\n",
       "      <th>R_1_len</th>\n",
       "      <th>R_1_wid</th>\n",
       "      <th>R_2_len</th>\n",
       "      <th>R_2_wid</th>\n",
       "      <th>R_3_len</th>\n",
       "      <th>R_3_wid</th>\n",
       "      <th>R_4_len</th>\n",
       "      <th>R_4_wid</th>\n",
       "      <th>R_5_len</th>\n",
       "      <th>R_5_wid</th>\n",
       "      <th>...</th>\n",
       "      <th>R_16_len</th>\n",
       "      <th>R_16_wid</th>\n",
       "      <th>R_17_len</th>\n",
       "      <th>R_17_wid</th>\n",
       "      <th>R_18_len</th>\n",
       "      <th>R_18_wid</th>\n",
       "      <th>R_19_len</th>\n",
       "      <th>R_19_wid</th>\n",
       "      <th>R_20_len</th>\n",
       "      <th>R_20_wid</th>\n",
       "    </tr>\n",
       "  </thead>\n",
       "  <tbody>\n",
       "    <tr>\n",
       "      <th>0</th>\n",
       "      <td>0.9660</td>\n",
       "      <td>0.7614</td>\n",
       "      <td>0.9072</td>\n",
       "      <td>0.5335</td>\n",
       "      <td>0.8823</td>\n",
       "      <td>0.5267</td>\n",
       "      <td>0.8428</td>\n",
       "      <td>0.7142</td>\n",
       "      <td>0.7981</td>\n",
       "      <td>0.6291</td>\n",
       "      <td>...</td>\n",
       "      <td>0.2299</td>\n",
       "      <td>0.0649</td>\n",
       "      <td>0.2184</td>\n",
       "      <td>0.4249</td>\n",
       "      <td>0.1438</td>\n",
       "      <td>0.0435</td>\n",
       "      <td>0.1339</td>\n",
       "      <td>0.4128</td>\n",
       "      <td>0.1330</td>\n",
       "      <td>0.1543</td>\n",
       "    </tr>\n",
       "    <tr>\n",
       "      <th>1</th>\n",
       "      <td>0.9660</td>\n",
       "      <td>0.7614</td>\n",
       "      <td>0.4180</td>\n",
       "      <td>0.7412</td>\n",
       "      <td>0.3114</td>\n",
       "      <td>0.7156</td>\n",
       "      <td>0.8428</td>\n",
       "      <td>0.7142</td>\n",
       "      <td>0.6306</td>\n",
       "      <td>0.6866</td>\n",
       "      <td>...</td>\n",
       "      <td>0.6247</td>\n",
       "      <td>0.1661</td>\n",
       "      <td>0.1330</td>\n",
       "      <td>0.1543</td>\n",
       "      <td>0.2299</td>\n",
       "      <td>0.0649</td>\n",
       "      <td>0.1438</td>\n",
       "      <td>0.0435</td>\n",
       "      <td>0.6728</td>\n",
       "      <td>0.0012</td>\n",
       "    </tr>\n",
       "    <tr>\n",
       "      <th>2</th>\n",
       "      <td>0.3114</td>\n",
       "      <td>0.7156</td>\n",
       "      <td>0.6306</td>\n",
       "      <td>0.6866</td>\n",
       "      <td>0.6548</td>\n",
       "      <td>0.5198</td>\n",
       "      <td>0.1438</td>\n",
       "      <td>0.0435</td>\n",
       "      <td>0.9072</td>\n",
       "      <td>0.5335</td>\n",
       "      <td>...</td>\n",
       "      <td>0.2184</td>\n",
       "      <td>0.4249</td>\n",
       "      <td>0.8823</td>\n",
       "      <td>0.5267</td>\n",
       "      <td>0.7981</td>\n",
       "      <td>0.6291</td>\n",
       "      <td>0.1330</td>\n",
       "      <td>0.1543</td>\n",
       "      <td>0.1339</td>\n",
       "      <td>0.4128</td>\n",
       "    </tr>\n",
       "    <tr>\n",
       "      <th>3</th>\n",
       "      <td>0.9660</td>\n",
       "      <td>0.7614</td>\n",
       "      <td>0.8428</td>\n",
       "      <td>0.7142</td>\n",
       "      <td>0.7981</td>\n",
       "      <td>0.6291</td>\n",
       "      <td>0.6306</td>\n",
       "      <td>0.6866</td>\n",
       "      <td>0.9072</td>\n",
       "      <td>0.5335</td>\n",
       "      <td>...</td>\n",
       "      <td>0.3130</td>\n",
       "      <td>0.1948</td>\n",
       "      <td>0.1330</td>\n",
       "      <td>0.1543</td>\n",
       "      <td>0.2299</td>\n",
       "      <td>0.0649</td>\n",
       "      <td>0.1438</td>\n",
       "      <td>0.0435</td>\n",
       "      <td>0.6728</td>\n",
       "      <td>0.0012</td>\n",
       "    </tr>\n",
       "    <tr>\n",
       "      <th>4</th>\n",
       "      <td>0.8428</td>\n",
       "      <td>0.7142</td>\n",
       "      <td>0.8823</td>\n",
       "      <td>0.5267</td>\n",
       "      <td>0.4180</td>\n",
       "      <td>0.7412</td>\n",
       "      <td>0.1339</td>\n",
       "      <td>0.4128</td>\n",
       "      <td>0.1330</td>\n",
       "      <td>0.1543</td>\n",
       "      <td>...</td>\n",
       "      <td>0.9072</td>\n",
       "      <td>0.5335</td>\n",
       "      <td>0.3130</td>\n",
       "      <td>0.1948</td>\n",
       "      <td>0.7981</td>\n",
       "      <td>0.6291</td>\n",
       "      <td>0.2184</td>\n",
       "      <td>0.4249</td>\n",
       "      <td>0.6728</td>\n",
       "      <td>0.0012</td>\n",
       "    </tr>\n",
       "  </tbody>\n",
       "</table>\n",
       "<p>5 rows × 40 columns</p>\n",
       "</div>"
      ],
      "text/plain": [
       "   R_1_len  R_1_wid  R_2_len  R_2_wid  R_3_len  R_3_wid  R_4_len  R_4_wid  \\\n",
       "0   0.9660   0.7614   0.9072   0.5335   0.8823   0.5267   0.8428   0.7142   \n",
       "1   0.9660   0.7614   0.4180   0.7412   0.3114   0.7156   0.8428   0.7142   \n",
       "2   0.3114   0.7156   0.6306   0.6866   0.6548   0.5198   0.1438   0.0435   \n",
       "3   0.9660   0.7614   0.8428   0.7142   0.7981   0.6291   0.6306   0.6866   \n",
       "4   0.8428   0.7142   0.8823   0.5267   0.4180   0.7412   0.1339   0.4128   \n",
       "\n",
       "   R_5_len  R_5_wid  ...  R_16_len  R_16_wid  R_17_len  R_17_wid  R_18_len  \\\n",
       "0   0.7981   0.6291  ...    0.2299    0.0649    0.2184    0.4249    0.1438   \n",
       "1   0.6306   0.6866  ...    0.6247    0.1661    0.1330    0.1543    0.2299   \n",
       "2   0.9072   0.5335  ...    0.2184    0.4249    0.8823    0.5267    0.7981   \n",
       "3   0.9072   0.5335  ...    0.3130    0.1948    0.1330    0.1543    0.2299   \n",
       "4   0.1330   0.1543  ...    0.9072    0.5335    0.3130    0.1948    0.7981   \n",
       "\n",
       "   R_18_wid  R_19_len  R_19_wid  R_20_len  R_20_wid  \n",
       "0    0.0435    0.1339    0.4128    0.1330    0.1543  \n",
       "1    0.0649    0.1438    0.0435    0.6728    0.0012  \n",
       "2    0.6291    0.1330    0.1543    0.1339    0.4128  \n",
       "3    0.0649    0.1438    0.0435    0.6728    0.0012  \n",
       "4    0.6291    0.2184    0.4249    0.6728    0.0012  \n",
       "\n",
       "[5 rows x 40 columns]"
      ]
     },
     "metadata": {},
     "output_type": "display_data"
    }
   ],
   "source": [
    "display(features_raw.head(n = 5))"
   ]
  },
  {
   "cell_type": "code",
   "execution_count": 15,
   "metadata": {
    "scrolled": true
   },
   "outputs": [
    {
     "name": "stdout",
     "output_type": "stream",
     "text": [
      "40 total features after one-hot encoding.\n",
      "['R_1_len', 'R_1_wid', 'R_2_len', 'R_2_wid', 'R_3_len', 'R_3_wid', 'R_4_len', 'R_4_wid', 'R_5_len', 'R_5_wid', 'R_6_len', 'R_6_wid', 'R_7_len', 'R_7_wid', 'R_8_len', 'R_8_wid', 'R_9_len', 'R_9_wid', 'R_10_len', 'R_10_wid', 'R_11_len', 'R_11_wid', 'R_12_len', 'R_12_wid', 'R_13_len', 'R_13_wid', 'R_14_len', 'R_14_wid', 'R_15_len', 'R_15_wid', 'R_16_len', 'R_16_wid', 'R_17_len', 'R_17_wid', 'R_18_len', 'R_18_wid', 'R_19_len', 'R_19_wid', 'R_20_len', 'R_20_wid']\n"
     ]
    }
   ],
   "source": [
    "features_final = features_raw\n",
    "\n",
    "optimum = optimum_raw\n",
    "\n",
    "# Print the number of features after one-hot encoding\n",
    "encoded = list(features_final.columns)\n",
    "print(\"{} total features after one-hot encoding.\".format(len(encoded)))\n",
    "\n",
    "# Uncomment the following line to see the encoded feature names\n",
    "print(encoded)"
   ]
  },
  {
   "cell_type": "code",
   "execution_count": 16,
   "metadata": {},
   "outputs": [
    {
     "name": "stdout",
     "output_type": "stream",
     "text": [
      "Training set has 56000 samples.\n",
      "Testing set has 14000 samples.\n"
     ]
    }
   ],
   "source": [
    "# Import train_test_split\n",
    "from sklearn.model_selection import train_test_split\n",
    "\n",
    "# Split the 'features' and 'income' data into training and testing sets\n",
    "X_train, X_test, y_train, y_test = train_test_split(features_final, \n",
    "                                                    optimum, \n",
    "                                                    test_size = 0.2, \n",
    "                                                    random_state = 0)\n",
    "\n",
    "# Show the results of the split\n",
    "print(\"Training set has {} samples.\".format(X_train.shape[0]))\n",
    "print(\"Testing set has {} samples.\".format(X_test.shape[0]))"
   ]
  },
  {
   "cell_type": "markdown",
   "metadata": {},
   "source": [
    "----\n",
    "## Evaluating Model Performance\n",
    "In this section, we will investigate four different algorithms, and determine which is best at modeling the data. Three of these algorithms will be supervised learners of your choice, and the fourth algorithm is known as a *naive predictor*."
   ]
  },
  {
   "cell_type": "markdown",
   "metadata": {},
   "source": [
    "### Metrics and the Naive Predictor\n",
    "*CharityML*, equipped with their research, knows individuals that make more than \\$50,000 are most likely to donate to their charity. Because of this, *CharityML* is particularly interested in predicting who makes more than \\$50,000 accurately. It would seem that using **accuracy** as a metric for evaluating a particular model's performace would be appropriate. Additionally, identifying someone that *does not* make more than \\$50,000 as someone who does would be detrimental to *CharityML*, since they are looking to find individuals willing to donate. Therefore, a model's ability to precisely predict those that make more than \\$50,000 is *more important* than the model's ability to **recall** those individuals. We can use **F-beta score** as a metric that considers both precision and recall:\n",
    "\n",
    "$$ F_{\\beta} = (1 + \\beta^2) \\cdot \\frac{precision \\cdot recall}{\\left( \\beta^2 \\cdot precision \\right) + recall} $$\n",
    "\n",
    "In particular, when $\\beta = 0.5$, more emphasis is placed on precision. This is called the **F$_{0.5}$ score** (or F-score for simplicity).\n",
    "\n",
    "Looking at the distribution of classes (those who make at most \\$50,000, and those who make more), it's clear most individuals do not make more than \\$50,000. This can greatly affect **accuracy**, since we could simply say *\"this person does not make more than \\$50,000\"* and generally be right, without ever looking at the data! Making such a statement would be called **naive**, since we have not considered any information to substantiate the claim. It is always important to consider the *naive prediction* for your data, to help establish a benchmark for whether a model is performing well. That been said, using that prediction would be pointless: If we predicted all people made less than \\$50,000, *CharityML* would identify no one as donors. \n",
    "\n",
    "\n",
    "#### Note: Recap of accuracy, precision, recall\n",
    "\n",
    "** Accuracy ** measures how often the classifier makes the correct prediction. It’s the ratio of the number of correct predictions to the total number of predictions (the number of test data points).\n",
    "\n",
    "** Precision ** tells us what proportion of messages we classified as spam, actually were spam.\n",
    "It is a ratio of true positives(words classified as spam, and which are actually spam) to all positives(all words classified as spam, irrespective of whether that was the correct classificatio), in other words it is the ratio of\n",
    "\n",
    "`[True Positives/(True Positives + False Positives)]`\n",
    "\n",
    "** Recall(sensitivity)** tells us what proportion of messages that actually were spam were classified by us as spam.\n",
    "It is a ratio of true positives(words classified as spam, and which are actually spam) to all the words that were actually spam, in other words it is the ratio of\n",
    "\n",
    "`[True Positives/(True Positives + False Negatives)]`\n",
    "\n",
    "For classification problems that are skewed in their classification distributions like in our case, for example if we had a 100 text messages and only 2 were spam and the rest 98 weren't, accuracy by itself is not a very good metric. We could classify 90 messages as not spam(including the 2 that were spam but we classify them as not spam, hence they would be false negatives) and 10 as spam(all 10 false positives) and still get a reasonably good accuracy score. For such cases, precision and recall come in very handy. These two metrics can be combined to get the F1 score, which is weighted average(harmonic mean) of the precision and recall scores. This score can range from 0 to 1, with 1 being the best possible F1 score(we take the harmonic mean as we are dealing with ratios)."
   ]
  },
  {
   "cell_type": "markdown",
   "metadata": {},
   "source": [
    "### Question 1 - Naive Predictor Performace\n",
    "* If we chose a model that always predicted an individual made more than $50,000, what would  that model's accuracy and F-score be on this dataset? You must use the code cell below and assign your results to `'accuracy'` and `'fscore'` to be used later.\n",
    "\n",
    "** Please note ** that the the purpose of generating a naive predictor is simply to show what a base model without any intelligence would look like. In the real world, ideally your base model would be either the results of a previous model or could be based on a research paper upon which you are looking to improve. When there is no benchmark model set, getting a result better than random choice is a place you could start from.\n",
    "\n",
    "** HINT: ** \n",
    "\n",
    "* When we have a model that always predicts '1' (i.e. the individual makes more than 50k) then our model will have no True Negatives(TN) or False Negatives(FN) as we are not making any negative('0' value) predictions. Therefore our Accuracy in this case becomes the same as our Precision(True Positives/(True Positives + False Positives)) as every prediction that we have made with value '1' that should have '0' becomes a False Positive; therefore our denominator in this case is the total number of records we have in total. \n",
    "* Our Recall score(True Positives/(True Positives + False Negatives)) in this setting becomes 1 as we have no False Negatives."
   ]
  },
  {
   "cell_type": "code",
   "execution_count": 24,
   "metadata": {},
   "outputs": [
    {
     "name": "stdout",
     "output_type": "stream",
     "text": [
      "Naive Predictor: [Accuracy score: 0.1429, F-score: 0.1504]\n"
     ]
    }
   ],
   "source": [
    "'''\n",
    "TP = np.sum(income) # Counting the ones as this is the naive case. Note that 'income' is the 'income_raw' data \n",
    "encoded to numerical values done in the data preprocessing step.\n",
    "FP = income.count() - TP # Specific to the naive case\n",
    "\n",
    "TN = 0 # No predicted negatives in the naive case\n",
    "FN = 0 # No predicted negatives in the naive case\n",
    "'''\n",
    "#from sklearn.metrics import fbeta_score\n",
    "\n",
    "income = optimum_raw\n",
    "\n",
    "TP = np.sum(income)\n",
    "FP = income.count() - TP\n",
    "\n",
    "TN = 0\n",
    "FN = 0\n",
    "\n",
    "\n",
    "# TODO: Calculate accuracy, precision and recall\n",
    "accuracy = (TP + TN) / (TP + FP + TN + FN)\n",
    "recall = TP / (TP + FN)\n",
    "precision = TP / (TP + FP)\n",
    "\n",
    "# TODO: Calculate F-score using the formula above for beta = 0.5 and correct values for precision and recall.\n",
    "beta = 0.25\n",
    "beta_sqr = beta * beta\n",
    "fscore = (1 + beta_sqr) * (precision * recall) / ((beta_sqr * precision) + recall )\n",
    "\n",
    "# Print the results \n",
    "print(\"Naive Predictor: [Accuracy score: {:.4f}, F-score: {:.4f}]\".format(accuracy, fscore))"
   ]
  },
  {
   "cell_type": "markdown",
   "metadata": {},
   "source": [
    "###  Supervised Learning Models\n",
    "**The following are some of the supervised learning models that are currently available in** [`scikit-learn`](http://scikit-learn.org/stable/supervised_learning.html) **that you may choose from:**\n",
    "- Gaussian Naive Bayes (GaussianNB)\n",
    "- Decision Trees\n",
    "- Ensemble Methods (Bagging, AdaBoost, Random Forest, Gradient Boosting)\n",
    "- K-Nearest Neighbors (KNeighbors)\n",
    "- Stochastic Gradient Descent Classifier (SGDC)\n",
    "- Support Vector Machines (SVM)\n",
    "- Logistic Regression"
   ]
  },
  {
   "cell_type": "markdown",
   "metadata": {},
   "source": [
    "### Question 2 - Model Application\n",
    "List three of the supervised learning models above that are appropriate for this problem that you will test on the census data. For each model chosen\n",
    "\n",
    "- Describe one real-world application in industry where the model can be applied. \n",
    "- What are the strengths of the model; when does it perform well?\n",
    "- What are the weaknesses of the model; when does it perform poorly?\n",
    "- What makes this model a good candidate for the problem, given what you know about the data?\n",
    "\n",
    "** HINT: **\n",
    "\n",
    "Structure your answer in the same format as above^, with 4 parts for each of the three models you pick. Please include references with your answer."
   ]
  },
  {
   "cell_type": "markdown",
   "metadata": {},
   "source": [
    "**Answer: **\n",
    "\n",
    "**1. Decision Trees**\n",
    "- Describe one real-world application in industry where the model can be applied.\n",
    "\n",
    "     *Medical models:* Wikipedia mentions an example where a decision tree estimates the probability of kyphosis after surgery, given the age of the patient and the vertebra at which surgery was started. \n",
    "      \n",
    "     [Wikipedia entry on decision trees](https://en.wikipedia.org/wiki/Decision_tree_learning)\n",
    "      \n",
    "     *Recommendation apps:* recommendation engines like [Spotitify BaRT are based on decision trees](https://www.datasciencecentral.com/profiles/blogs/how-spotify-know-a-lot-about-you-using-machine-learning-and-ai).\n",
    "            \n",
    "\n",
    "- What are the strengths of the model; when does it perform well?\n",
    "\n",
    "    - It is simple to understand and to interpret. Trees can be easily be visualised.\n",
    "\n",
    "    - Requires little data preparation. Other techniques often require data normalisation, one hot encoding, etc.\n",
    "\n",
    "    - It's good fitted for large data sets, as it has logarithmic cost wrt. the number of data points used to train the tree.\n",
    "\n",
    "    - Possible to validate a model using statistical tests. That makes it possible to account for the reliability of the model.\n",
    "    \n",
    "    [SciKit Learn DecisionTree Documentation](https://scikit-learn.org/stable/modules/tree.html)\n",
    "\n",
    "- What are the weaknesses of the model; when does it perform poorly?\n",
    "\n",
    "    - Decision-tree learners can create over-complex trees that do not generalise the data well. This is called overfitting.\n",
    "      This may require extra tuning effort like pruning, setting the minimum number of samples required at a leaf node or setting the maximum depth of the tree are necessary to avoid this problem.\n",
    "\n",
    "    - Decision trees can be unstable because small variations in the data might result in a completely different tree being generated. This problem can be mitigated by using decision trees within an ensemble.\n",
    "\n",
    "    - Predictions of decision trees are neither smooth nor continuous, but piecewise constant approximations as seen in the above figure. Therefore, they are not good at extrapolation.\n",
    "\n",
    "    - Decision tree learners create biased trees if some classes dominate. It is therefore recommended to balance the dataset prior to fitting with the decision tree.\n",
    "    \n",
    "    [SciKit Learn DecisionTree Documentation](https://scikit-learn.org/stable/modules/tree.html)\n",
    "\n",
    "- What makes this model a good candidate for the problem, given what you know about the data?\n",
    "\n",
    "    - We have a large set of input data so having a model with only logarithmic costs will give good performance\n",
    "    - A decision tree is simple to understand and interpret. So even if it might be not optimal to use it in our case with unbalanced data (only 24% of the records are in the >50K group), it will still be a useful reference point.\n",
    "\n",
    "\n",
    "**2. Gaussian Naive Bayes**\n",
    "- Describe one real-world application in industry where the model can be applied.\n",
    "\n",
    "    *Spam detection*: As we have seen in the classroom that the GaussianNB did quite well at detecting spam Text messages.\n",
    "    \n",
    "    *Person and document classification:* [According to Wikipedia](https://en.wikipedia.org/wiki/Naive_Bayes_classifier) many classification problems can be successfully solved with Naive Bayes approaches.\n",
    "    \n",
    "- What are the strengths of the model; when does it perform well?\n",
    "\n",
    "    - In spite of their apparently over-simplified assumptions, naive Bayes classifiers have worked quite well in many real-world situations, famously document classification and spam filtering. \n",
    "    - They require a small amount of training data to estimate the necessary parameters. \n",
    "\n",
    "    - Naive Bayes learners and classifiers can be extremely fast compared to more sophisticated methods.\n",
    "    \n",
    "    [Scikit learn documentation on Naive Bayes](https://scikit-learn.org/stable/modules/naive_bayes.html#gaussian-naive-bayes)\n",
    "\n",
    "- What are the weaknesses of the model; when does it perform poorly?\n",
    "\n",
    "    - On the flip side, although naive Bayes is known as a decent classifier, it is known to be a bad estimator.\n",
    "    \n",
    "    - If the naive assumption of feature independence is not true, result may be drastically wrong.\n",
    "    \n",
    "    [Scikit learn documentation on Naive Bayes](https://scikit-learn.org/stable/modules/naive_bayes.html#gaussian-naive-bayes)\n",
    "\n",
    "- What makes this model a good candidate for the problem, given what you know about the data?\n",
    "\n",
    "    - Naive Bayes has a good track record for Person classifictation problems, so its a good candidate on our data.\n",
    "    \n",
    "    - Performance should be good even for our large data set.\n",
    "\n",
    "**3. AdaBoost with Decsision trees**\n",
    "- Describe one real-world application in industry where the model can be applied.\n",
    " \n",
    "    *All classifications that Decision Trees are good at* (see No. 1)\n",
    "    \n",
    "    *Fault diagnosis*: detecting process faults [Fault diagnosis using AdaBoost](https://www.sciencedirect.com/science/article/abs/pii/S0952197620300907) \n",
    "    \n",
    "- What are the strengths of the model; when does it perform well?\n",
    "\n",
    "    - Adaptive Boosting (with decision trees as the weak learners) is often referred to as the best out-of-the-box classifier.\n",
    "    - The AdaBoost training process selects only those features known to improve the predictive power of the model, reducing dimensionality and potentially improving execution time as irrelevant features don't need to be computed.\n",
    "    \n",
    "    [Wikipedia article on AdaBoost](https://en.wikipedia.org/wiki/AdaBoost)\n",
    "\n",
    "- What are the weaknesses of the model; when does it perform poorly?\n",
    "\n",
    "    - Boosting technique learns progressively, it is important to ensure that you have quality data. \n",
    "    - AdaBoost is also extremely sensitive to Noisy data and outliers so if you do plan to use AdaBoost then it is highly recommended to eliminate them.\n",
    "    - AdaBoost has also been proven to be slower than other boosting algorithms like XGBoost.\n",
    "    \n",
    "    [A Guide to AdaBoost: Boosting To Save The Day](https://blog.paperspace.com/adaboost-optimizer/)\n",
    "\n",
    "- What makes this model a good candidate for the problem, given what you know about the data?\n",
    "\n",
    "    - Our input data has 103 features, so reducing the number of relevant featured in may be a good idea\n",
    "    - By scaling we have already made sure that our input data is well-behaved and won't disturb the AdaBoost algorithm. "
   ]
  },
  {
   "cell_type": "markdown",
   "metadata": {},
   "source": [
    "### Implementation - Creating a Training and Predicting Pipeline\n",
    "To properly evaluate the performance of each model you've chosen, it's important that you create a training and predicting pipeline that allows you to quickly and effectively train models using various sizes of training data and perform predictions on the testing data. Your implementation here will be used in the following section.\n",
    "In the code block below, you will need to implement the following:\n",
    " - Import `fbeta_score` and `accuracy_score` from [`sklearn.metrics`](http://scikit-learn.org/stable/modules/classes.html#sklearn-metrics-metrics).\n",
    " - Fit the learner to the sampled training data and record the training time.\n",
    " - Perform predictions on the test data `X_test`, and also on the first 300 training points `X_train[:300]`.\n",
    "   - Record the total prediction time.\n",
    " - Calculate the accuracy score for both the training subset and testing set.\n",
    " - Calculate the F-score for both the training subset and testing set.\n",
    "   - Make sure that you set the `beta` parameter!"
   ]
  },
  {
   "cell_type": "code",
   "execution_count": 18,
   "metadata": {},
   "outputs": [],
   "source": [
    "# TODO: Import two metrics from sklearn - fbeta_score and accuracy_score\n",
    "from sklearn.metrics import fbeta_score\n",
    "from sklearn.metrics import accuracy_score\n",
    "\n",
    "def train_predict(learner, sample_size, X_train, y_train, X_test, y_test): \n",
    "    '''\n",
    "    inputs:\n",
    "       - learner: the learning algorithm to be trained and predicted on\n",
    "       - sample_size: the size of samples (number) to be drawn from training set\n",
    "       - X_train: features training set\n",
    "       - y_train: income training set\n",
    "       - X_test: features testing set\n",
    "       - y_test: income testing set\n",
    "    '''\n",
    "    \n",
    "    results = {}\n",
    "    \n",
    "    # TODO: Fit the learner to the training data using slicing with 'sample_size' using .fit(training_features[:], training_labels[:])\n",
    "    start = time() # Get start time\n",
    "    learner = learner.fit(X_train[:sample_size], y_train[:sample_size].values.ravel())\n",
    "    end = time() # Get end time\n",
    "    \n",
    "    # TODO: Calculate the training time\n",
    "    results['train_time'] = end - start\n",
    "        \n",
    "    # TODO: Get the predictions on the test set(X_test),\n",
    "    #       then get predictions on the first 300 training samples(X_train) using .predict()\n",
    "    start = time() # Get start time\n",
    "    predictions_test = learner.predict(X_test)    \n",
    "    predictions_train = learner.predict(X_train.head(300))\n",
    "    end = time() # Get end time\n",
    "    \n",
    "    # TODO: Calculate the total prediction time\n",
    "    results['pred_time'] = end - start\n",
    "            \n",
    "    # TODO: Compute accuracy on the first 300 training samples which is y_train[:300]\n",
    "    results['acc_train'] = accuracy_score(y_train[:300], predictions_train)\n",
    "        \n",
    "    # TODO: Compute accuracy on test set using accuracy_score()\n",
    "    results['acc_test'] = accuracy_score(y_test, predictions_test)\n",
    "    \n",
    "    # TODO: Compute F-score on the the first 300 training samples using fbeta_score()\n",
    "    results['f_train'] = fbeta_score(y_train[:300], predictions_train,beta = 0.5)\n",
    "        \n",
    "    # TODO: Compute F-score on the test set which is y_test\n",
    "    results['f_test'] = fbeta_score(y_test, predictions_test,beta = 0.5)\n",
    "       \n",
    "    # Success\n",
    "    print(\"{} trained on {} samples.\".format(learner.__class__.__name__, sample_size))\n",
    "        \n",
    "    # Return the results\n",
    "    return results"
   ]
  },
  {
   "cell_type": "markdown",
   "metadata": {},
   "source": [
    "### Implementation: Initial Model Evaluation\n",
    "In the code cell, you will need to implement the following:\n",
    "- Import the three supervised learning models you've discussed in the previous section.\n",
    "- Initialize the three models and store them in `'clf_A'`, `'clf_B'`, and `'clf_C'`.\n",
    "  - Use a `'random_state'` for each model you use, if provided.\n",
    "  - **Note:** Use the default settings for each model — you will tune one specific model in a later section.\n",
    "- Calculate the number of records equal to 1%, 10%, and 100% of the training data.\n",
    "  - Store those values in `'samples_1'`, `'samples_10'`, and `'samples_100'` respectively.\n",
    "\n",
    "**Note:** Depending on which algorithms you chose, the following implementation may take some time to run!"
   ]
  },
  {
   "cell_type": "code",
   "execution_count": 19,
   "metadata": {
    "scrolled": true
   },
   "outputs": [
    {
     "name": "stdout",
     "output_type": "stream",
     "text": [
      "DecisionTreeClassifier trained on 560 samples.\n",
      "DecisionTreeClassifier trained on 5600 samples.\n",
      "DecisionTreeClassifier trained on 56000 samples.\n",
      "GaussianNB trained on 560 samples.\n",
      "GaussianNB trained on 5600 samples.\n",
      "GaussianNB trained on 56000 samples.\n",
      "AdaBoostClassifier trained on 560 samples.\n",
      "AdaBoostClassifier trained on 5600 samples.\n",
      "AdaBoostClassifier trained on 56000 samples.\n"
     ]
    },
    {
     "name": "stderr",
     "output_type": "stream",
     "text": [
      "/home/tom/play/CuttingStock/visuals.py:118: UserWarning: Tight layout not applied. tight_layout cannot make axes width small enough to accommodate all axes decorations\n",
      "  pl.tight_layout()\n"
     ]
    },
    {
     "data": {
      "image/png": "[encoded data removed]",
      "text/plain": [
       "<Figure size 792x504 with 6 Axes>"
      ]
     },
     "metadata": {
      "needs_background": "light"
     },
     "output_type": "display_data"
    }
   ],
   "source": [
    "# TODO: Import the three supervised learning models from sklearn\n",
    "from sklearn.tree import DecisionTreeClassifier\n",
    "from sklearn.naive_bayes import GaussianNB\n",
    "from sklearn.ensemble import AdaBoostClassifier\n",
    "\n",
    "\n",
    "# TODO: Initialize the three models\n",
    "clf_A = DecisionTreeClassifier(random_state=42)\n",
    "clf_B = GaussianNB()\n",
    "clf_C = AdaBoostClassifier(random_state=42)\n",
    "\n",
    "# TODO: Calculate the number of samples for 1%, 10%, and 100% of the training data\n",
    "# HINT: samples_100 is the entire training set i.e. len(y_train)\n",
    "# HINT: samples_10 is 10% of samples_100 (ensure to set the count of the values to be `int` and not `float`)\n",
    "# HINT: samples_1 is 1% of samples_100 (ensure to set the count of the values to be `int` and not `float`)\n",
    "samples_100 = len(y_train)\n",
    "samples_10 = samples_100 // 10\n",
    "samples_1 = samples_10 // 10\n",
    "\n",
    "# Collect results on the learners\n",
    "results = {}\n",
    "for clf in [clf_A, clf_B, clf_C]:\n",
    "    clf_name = clf.__class__.__name__\n",
    "    results[clf_name] = {}\n",
    "    for i, samples in enumerate([samples_1, samples_10, samples_100]):\n",
    "        results[clf_name][i] = \\\n",
    "        train_predict(clf, samples, X_train, y_train, X_test, y_test)\n",
    "\n",
    "# Run metrics visualization for the three supervised learning models chosen\n",
    "vs.evaluate(results, accuracy, fscore)"
   ]
  },
  {
   "cell_type": "markdown",
   "metadata": {},
   "source": [
    "----\n",
    "## Improving Results\n",
    "In this final section, you will choose from the three supervised learning models the *best* model to use on the student data. You will then perform a grid search optimization for the model over the entire training set (`X_train` and `y_train`) by tuning at least one parameter to improve upon the untuned model's F-score. "
   ]
  },
  {
   "cell_type": "markdown",
   "metadata": {},
   "source": [
    "### Question 3 - Choosing the Best Model\n",
    "\n",
    "* Based on the evaluation you performed earlier, in one to two paragraphs, explain to *CharityML* which of the three models you believe to be most appropriate for the task of identifying individuals that make more than \\$50,000. \n",
    "\n",
    "** HINT: ** \n",
    "Look at the graph at the bottom left from the cell above(the visualization created by `vs.evaluate(results, accuracy, fscore)`) and check the F score for the testing set when 100% of the training set is used. Which model has the highest score? Your answer should include discussion of the:\n",
    "* metrics - F score on the testing when 100% of the training data is used, \n",
    "* prediction/training time\n",
    "* the algorithm's suitability for the data."
   ]
  },
  {
   "cell_type": "markdown",
   "metadata": {},
   "source": [
    "**Answer: **\n",
    "By looking at the chart I recommend to choose AdaBoost as the model to go ahead with. Here is why:\n",
    "\n",
    "- the decision tree (DT) model has a very high F-score on the training subset but on the actual testing set its F-score is much smaller. This is an indication of an overfitting model. It seems the DT just \"memorizes\" all data points of the training subset but is not able to predict well against the testing set. It does not generalize well.\n",
    "\n",
    "- the Gaussian Naive Bayes (NB) model has the F-score for training and testing set on the same level. But it is not much better than the performance of the naive predictor (dashed horizontal line). So NB won't help us to give reliable predictions. \n",
    "\n",
    "- The AdaBoost (AB) model also has F-score for training and testing set on the same level. But the F-score is much better than the naive predictor score (dashed horizontal line). So we can conclude that the NB model does not overfit and will be a good starting point to further improvements to reach an even better F-score.\n",
    "\n",
    "    The AdaBoost training process selects only those features known to improve the predictive power of the model, reducing dimensionality. This will be helpful in our case where we have over 100 input features.\n",
    "    \n",
    "    The execution time for AdaBoost is significantly higher for both training and testing. For CharitityML we'll need a model with a high precision. That is if we predict a person to be in the >50K class it better should actually be in this class to avoid costs for sending out mailings to people who are not in the actual target group. \n",
    "    So if we choose AdaBoost with its higher CPU costs we still save overall as we can avoid costly mailings to the wrong candidates.\n",
    "    With further optimizations AdaBoost will also allow to reduce the execution time in many cases."
   ]
  },
  {
   "cell_type": "markdown",
   "metadata": {},
   "source": [
    "### Implementation: Model Tuning\n",
    "Fine tune the chosen model. Use grid search (`GridSearchCV`) with at least one important parameter tuned with at least 3 different values. You will need to use the entire training set for this. In the code cell below, you will need to implement the following:\n",
    "- Import [`sklearn.grid_search.GridSearchCV`](http://scikit-learn.org/0.17/modules/generated/sklearn.grid_search.GridSearchCV.html) and [`sklearn.metrics.make_scorer`](http://scikit-learn.org/stable/modules/generated/sklearn.metrics.make_scorer.html).\n",
    "- Initialize the classifier you've chosen and store it in `clf`.\n",
    " - Set a `random_state` if one is available to the same state you set before.\n",
    "- Create a dictionary of parameters you wish to tune for the chosen model.\n",
    " - Example: `parameters = {'parameter' : [list of values]}`.\n",
    " - **Note:** Avoid tuning the `max_features` parameter of your learner if that parameter is available!\n",
    "- Use `make_scorer` to create an `fbeta_score` scoring object (with $\\beta = 0.5$).\n",
    "- Perform grid search on the classifier `clf` using the `'scorer'`, and store it in `grid_obj`.\n",
    "- Fit the grid search object to the training data (`X_train`, `y_train`), and store it in `grid_fit`.\n",
    "\n",
    "**Note:** Depending on the algorithm chosen and the parameter list, the following implementation may take some time to run!"
   ]
  },
  {
   "cell_type": "code",
   "execution_count": 23,
   "metadata": {},
   "outputs": [
    {
     "name": "stdout",
     "output_type": "stream",
     "text": [
      "AdaBoostClassifier(learning_rate=0.5, n_estimators=300, random_state=42)\n",
      "Unoptimized model\n",
      "------\n",
      "Accuracy score on testing data: 0.8824\n",
      "F-score on testing data: 0.6249\n",
      "\n",
      "Optimized Model\n",
      "------\n",
      "Final accuracy score on the testing data: 0.8863\n",
      "Final F-score on the testing data: 0.6419\n"
     ]
    }
   ],
   "source": [
    "# TODO: Import 'GridSearchCV', 'make_scorer', and any other necessary libraries\n",
    "from sklearn.metrics import make_scorer\n",
    "from sklearn.model_selection import GridSearchCV\n",
    "from sklearn.metrics import make_scorer\n",
    "from sklearn.ensemble import RandomForestClassifier\n",
    "\n",
    "# TODO: Initialize the classifier\n",
    "clf = AdaBoostClassifier(random_state=42) \n",
    "\n",
    "# TODO: Create the parameters list you wish to tune, using a dictionary if needed.\n",
    "# HINT: parameters = {'parameter_1': [value1, value2], 'parameter_2': [value1, value2]}\n",
    "\n",
    "parameters = {#'base_estimator': [DecisionTreeClassifier(), RandomForestClassifier()], \n",
    "              'n_estimators': [50,200,300], \n",
    "              'learning_rate': [0.25,0.5,1,1.5]}\n",
    "\n",
    "# TODO: Make an fbeta_score scoring object using make_scorer()\n",
    "scorer = make_scorer(fbeta_score, beta=0.5)\n",
    "\n",
    "# TODO: Perform grid search on the classifier using 'scorer' as the scoring method using GridSearchCV()\n",
    "grid_obj = GridSearchCV(clf, parameters, scoring=scorer, n_jobs=20)\n",
    "\n",
    "# TODO: Fit the grid search object to the training data and find the optimal parameters using fit()\n",
    "grid_fit = grid_obj.fit(X_train, y_train.values.ravel())\n",
    "\n",
    "# Get the estimator\n",
    "best_clf = grid_fit.best_estimator_\n",
    "\n",
    "print(best_clf)\n",
    "\n",
    "# Make predictions using the unoptimized and model\n",
    "predictions = (clf.fit(X_train, y_train.values.ravel())).predict(X_test)\n",
    "best_predictions = best_clf.predict(X_test)\n",
    "\n",
    "# Report the before-and-afterscores\n",
    "print(\"Unoptimized model\\n------\")\n",
    "print(\"Accuracy score on testing data: {:.4f}\".format(accuracy_score(y_test, predictions)))\n",
    "print(\"F-score on testing data: {:.4f}\".format(fbeta_score(y_test, predictions, beta = 0.25)))\n",
    "print(\"\\nOptimized Model\\n------\")\n",
    "print(\"Final accuracy score on the testing data: {:.4f}\".format(accuracy_score(y_test, best_predictions)))\n",
    "print(\"Final F-score on the testing data: {:.4f}\".format(fbeta_score(y_test, best_predictions, beta = 0.25)))"
   ]
  },
  {
   "cell_type": "markdown",
   "metadata": {},
   "source": [
    "### Question 5 - Final Model Evaluation\n",
    "\n",
    "* What is your optimized model's accuracy and F-score on the testing data? \n",
    "* Are these scores better or worse than the unoptimized model? \n",
    "* How do the results from your optimized model compare to the naive predictor benchmarks you found earlier in **Question 1**?_  \n",
    "\n",
    "**Note:** Fill in the table below with your results, and then provide discussion in the **Answer** box."
   ]
  },
  {
   "cell_type": "markdown",
   "metadata": {},
   "source": [
    "#### Results:\n",
    "\n",
    "|     Metric     | Unoptimized Model | Optimized Model |\n",
    "| :------------: | :---------------: | :-------------: | \n",
    "| Accuracy Score |                   |                 |\n",
    "| F-score        |                   |   EXAMPLE       |\n"
   ]
  },
  {
   "cell_type": "markdown",
   "metadata": {},
   "source": [
    "**Answer: **"
   ]
  },
  {
   "cell_type": "markdown",
   "metadata": {},
   "source": [
    "----\n",
    "## Feature Importance\n",
    "\n",
    "An important task when performing supervised learning on a dataset like the census data we study here is determining which features provide the most predictive power. By focusing on the relationship between only a few crucial features and the target label we simplify our understanding of the phenomenon, which is most always a useful thing to do. In the case of this project, that means we wish to identify a small number of features that most strongly predict whether an individual makes at most or more than \\$50,000.\n",
    "\n",
    "Choose a scikit-learn classifier (e.g., adaboost, random forests) that has a `feature_importance_` attribute, which is a function that ranks the importance of features according to the chosen classifier.  In the next python cell fit this classifier to training set and use this attribute to determine the top 5 most important features for the census dataset."
   ]
  },
  {
   "cell_type": "markdown",
   "metadata": {},
   "source": [
    "### Question 6 - Feature Relevance Observation\n",
    "When **Exploring the Data**, it was shown there are thirteen available features for each individual on record in the census data. Of these thirteen records, which five features do you believe to be most important for prediction, and in what order would you rank them and why?"
   ]
  },
  {
   "cell_type": "markdown",
   "metadata": {},
   "source": [
    "**Answer:**"
   ]
  },
  {
   "cell_type": "markdown",
   "metadata": {},
   "source": [
    "### Implementation - Extracting Feature Importance\n",
    "Choose a `scikit-learn` supervised learning algorithm that has a `feature_importance_` attribute availble for it. This attribute is a function that ranks the importance of each feature when making predictions based on the chosen algorithm.\n",
    "\n",
    "In the code cell below, you will need to implement the following:\n",
    " - Import a supervised learning model from sklearn if it is different from the three used earlier.\n",
    " - Train the supervised model on the entire training set.\n",
    " - Extract the feature importances using `'.feature_importances_'`."
   ]
  },
  {
   "cell_type": "code",
   "execution_count": 25,
   "metadata": {},
   "outputs": [
    {
     "data": {
      "image/png": "[encoded data removed]",
      "text/plain": [
       "<Figure size 648x360 with 1 Axes>"
      ]
     },
     "metadata": {
      "needs_background": "light"
     },
     "output_type": "display_data"
    }
   ],
   "source": [
    "# TODO: Import a supervised learning model that has 'feature_importances_'\n",
    "\n",
    "\n",
    "# TODO: Train the supervised model on the training set using .fit(X_train, y_train)\n",
    "model = best_clf.fit(X_train, y_train.values.ravel())\n",
    "\n",
    "# TODO: Extract the feature importances using .feature_importances_ \n",
    "importances = model.feature_importances_\n",
    "\n",
    "# Plot\n",
    "vs.feature_plot(importances, X_train, y_train)"
   ]
  },
  {
   "cell_type": "markdown",
   "metadata": {},
   "source": [
    "### Question 7 - Extracting Feature Importance\n",
    "\n",
    "Observe the visualization created above which displays the five most relevant features for predicting if an individual makes at most or above \\$50,000.  \n",
    "* How do these five features compare to the five features you discussed in **Question 6**?\n",
    "* If you were close to the same answer, how does this visualization confirm your thoughts? \n",
    "* If you were not close, why do you think these features are more relevant?"
   ]
  },
  {
   "cell_type": "markdown",
   "metadata": {},
   "source": [
    "**Answer:**"
   ]
  },
  {
   "cell_type": "markdown",
   "metadata": {},
   "source": [
    "### Feature Selection\n",
    "How does a model perform if we only use a subset of all the available features in the data? With less features required to train, the expectation is that training and prediction time is much lower — at the cost of performance metrics. From the visualization above, we see that the top five most important features contribute more than half of the importance of **all** features present in the data. This hints that we can attempt to *reduce the feature space* and simplify the information required for the model to learn. The code cell below will use the same optimized model you found earlier, and train it on the same training set *with only the top five important features*. "
   ]
  },
  {
   "cell_type": "code",
   "execution_count": 38,
   "metadata": {},
   "outputs": [
    {
     "name": "stdout",
     "output_type": "stream",
     "text": [
      "Final Model trained on full data\n",
      "------\n",
      "Accuracy on testing data: 0.8612\n",
      "F-score on testing data: 0.2856\n",
      "\n",
      "Final Model trained on reduced data\n",
      "------\n",
      "Accuracy on testing data: 0.8575\n",
      "F-score on testing data: 0.0801\n"
     ]
    }
   ],
   "source": [
    "# Import functionality for cloning a model\n",
    "from sklearn.base import clone\n",
    "\n",
    "# Reduce the feature space\n",
    "X_train_reduced = X_train[X_train.columns.values[(np.argsort(importances)[::-1])[:5]]]\n",
    "X_test_reduced = X_test[X_test.columns.values[(np.argsort(importances)[::-1])[:5]]]\n",
    "\n",
    "# Train on the \"best\" model found from grid search earlier\n",
    "clf = (clone(best_clf)).fit(X_train_reduced, y_train)\n",
    "\n",
    "# Make new predictions\n",
    "reduced_predictions = clf.predict(X_test_reduced)\n",
    "\n",
    "# Report scores from the final model using both versions of data\n",
    "print(\"Final Model trained on full data\\n------\")\n",
    "print(\"Accuracy on testing data: {:.4f}\".format(accuracy_score(y_test, best_predictions)))\n",
    "print(\"F-score on testing data: {:.4f}\".format(fbeta_score(y_test, best_predictions, beta = 0.5)))\n",
    "print(\"\\nFinal Model trained on reduced data\\n------\")\n",
    "print(\"Accuracy on testing data: {:.4f}\".format(accuracy_score(y_test, reduced_predictions)))\n",
    "print(\"F-score on testing data: {:.4f}\".format(fbeta_score(y_test, reduced_predictions, beta = 0.5)))"
   ]
  },
  {
   "cell_type": "markdown",
   "metadata": {},
   "source": [
    "### Question 8 - Effects of Feature Selection\n",
    "\n",
    "* How does the final model's F-score and accuracy score on the reduced data using only five features compare to those same scores when all features are used?\n",
    "* If training time was a factor, would you consider using the reduced data as your training set?"
   ]
  },
  {
   "cell_type": "markdown",
   "metadata": {},
   "source": [
    "**Answer:**"
   ]
  },
  {
   "cell_type": "markdown",
   "metadata": {},
   "source": [
    "> **Note**: Once you have completed all of the code implementations and successfully answered each question above, you may finalize your work by exporting the iPython Notebook as an HTML document. You can do this by using the menu above and navigating to  \n",
    "**File -> Download as -> HTML (.html)**. Include the finished document along with this notebook as your submission."
   ]
  }
 ],
 "metadata": {
  "kernelspec": {
   "display_name": "Python 3",
   "language": "python",
   "name": "python3"
  },
  "language_info": {
   "codemirror_mode": {
    "name": "ipython",
    "version": 3
   },
   "file_extension": ".py",
   "mimetype": "text/x-python",
   "name": "python",
   "nbconvert_exporter": "python",
   "pygments_lexer": "ipython3",
   "version": "3.8.5"
  }
 },
 "nbformat": 4,
 "nbformat_minor": 1
}
